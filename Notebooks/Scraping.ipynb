{
 "cells": [
  {
   "cell_type": "markdown",
   "metadata": {},
   "source": [
    "This notebook is used to scrape dog breed data from a combination of sites and store it in a postgres database."
   ]
  },
  {
   "cell_type": "code",
   "execution_count": 6,
   "metadata": {},
   "outputs": [],
   "source": [
    "import pandas as pd\n",
    "from selenium import webdriver\n",
    "from sqlalchemy import create_engine\n",
    "from sqlalchemy_utils import database_exists, create_database\n",
    "import psycopg2\n",
    "import re\n",
    "from bs4 import BeautifulSoup"
   ]
  },
  {
   "cell_type": "code",
   "execution_count": 7,
   "metadata": {},
   "outputs": [
    {
     "name": "stdout",
     "output_type": "stream",
     "text": [
      "postgres://chris@localhost/dog_breeds\n",
      "True\n"
     ]
    }
   ],
   "source": [
    "#Create or load database\n",
    "dbname = 'dog_breeds'\n",
    "username = 'chris'\n",
    "engine = create_engine('postgres://%s@localhost/%s'%(username,dbname))\n",
    "print(engine.url)\n",
    "## create a database (if it doesn't exist)\n",
    "if not database_exists(engine.url):\n",
    "    create_database(engine.url)\n",
    "print(database_exists(engine.url))"
   ]
  },
  {
   "cell_type": "markdown",
   "metadata": {},
   "source": [
    "Get all of the dog breed links from the akc website https://www.akc.org/dog-breeds/page/1/"
   ]
  },
  {
   "cell_type": "code",
   "execution_count": 8,
   "metadata": {},
   "outputs": [],
   "source": [
    "def get_akc_links(page):\n",
    "    driver = webdriver.Chrome('/Users/chris/Downloads/chromedriver')\n",
    "    driver.get(page)\n",
    "    soup = BeautifulSoup(driver.page_source,\"lxml\")\n",
    "    driver.close()\n",
    "    #Now we need to parse the dog breeds\n",
    "    dog_breeds = []\n",
    "    for item in soup.find_all('option', value=True):\n",
    "        dog_breeds.append(str(item['value']))\n",
    "    dog_breeds = list(set(dog_breeds))\n",
    "    #Clean up some of the links\n",
    "    remove = ['','https://www.akc.org/dog-breeds/sporting/','https://www.akc.org/dog-breeds/hound/','https://www.akc.org/dog-breeds/working/','https://www.akc.org/dog-breeds/terrier/','https://www.akc.org/dog-breeds/toy/',\n",
    "          'https://www.akc.org/dog-breeds/non-sporting/','https://www.akc.org/dog-breeds/herding/','https://www.akc.org/dog-breeds/miscellaneous-class/',\n",
    "          'https://www.akc.org/dog-breeds/foundation-stock-service/','https://www.akc.org/dog-breeds/smallest-dog-breeds/',\n",
    "         'https://www.akc.org/dog-breeds/medium-dog-breeds/','https://www.akc.org/dog-breeds/largest-dog-breeds/',\n",
    "         'https://www.akc.org/dog-breeds/hypoallergenic-dogs/','https://www.akc.org/dog-breeds/best-family-dogs/','https://www.akc.org/dog-breeds/best-guard-dogs/',\n",
    "         'https://www.akc.org/dog-breeds/best-dogs-for-kids/','https://www.akc.org/dog-breeds/best-dogs-for-apartments-dwellers/',\n",
    "         'https://www.akc.org/dog-breeds/hairless-dog-breeds/','https://www.akc.org/dog-breeds/smartest-dogs/']\n",
    "    dog_breeds_filtered = []\n",
    "    for breed in dog_breeds:\n",
    "        if breed not in remove:\n",
    "            dog_breeds_filtered.append(breed)\n",
    "    return dog_breeds_filtered"
   ]
  },
  {
   "cell_type": "markdown",
   "metadata": {},
   "source": [
    "Follow the links on the akc site and get all the breed info (raw)"
   ]
  },
  {
   "cell_type": "code",
   "execution_count": 9,
   "metadata": {},
   "outputs": [],
   "source": [
    "def get_akc_breed_info(link):\n",
    "    #follow the links\n",
    "    dog_dict = {}\n",
    "    driver = webdriver.Chrome('/Users/chris/Downloads/chromedriver')\n",
    "    driver.get(link)\n",
    "    soup = BeautifulSoup(driver.page_source,\"lxml\")\n",
    "    driver.close()\n",
    "    #Get temperament\n",
    "    for item in soup.find_all('span', attrs={'class':'attribute-list__description attribute-list__text attribute-list__text--lg mb4 bpm-mb5 pb0 d-block'}):\n",
    "        dog_dict['temperament'] = str(item.text.encode('utf-8').strip())\n",
    "    #Get attributes\n",
    "    attributes = []\n",
    "    for item in soup.find_all('span', attrs={'class': 'attribute-list__description attribute-list__text '}):\n",
    "        attributes.append(str(item.text.encode('utf-8').strip()))\n",
    "    #Get about\n",
    "    for item in soup.find_all('div', attrs={'class':'breed-info__content-wrap'},limit=1):\n",
    "        dog_dict['about'] = str(item.text.encode('utf-8').strip())\n",
    "    #Get care\n",
    "    for item in soup.find_all('div', attrs={'class':'tabs__tab-panel-content'}):\n",
    "        if \"NUTRITION\" in str(item.text.encode('utf-8').strip()):\n",
    "            dog_dict['nutrition'] = str(item.text.encode('utf-8').strip())\n",
    "        if \"GROOMING\" in str(item.text.encode('utf-8').strip()):\n",
    "            dog_dict['grooming'] = str(item.text.encode('utf-8').strip())\n",
    "        if \"EXERCISE\" in str(item.text.encode('utf-8').strip()):\n",
    "            dog_dict['exercise'] = str(item.text.encode('utf-8').strip())\n",
    "        if \"TRAINING\" in str(item.text.encode('utf-8').strip()):\n",
    "            dog_dict['training'] = str(item.text.encode('utf-8').strip())\n",
    "        if \"HEALTH\" in str(item.text.encode('utf-8').strip()):\n",
    "            dog_dict['health'] = str(item.text.encode('utf-8').strip())\n",
    "    #Put attributes into dictionary\n",
    "    for i in range(len(attributes)):\n",
    "        if i == 0:\n",
    "            dog_dict['rank'] = attributes[i]\n",
    "        elif i == 1:\n",
    "            dog_dict['height'] = attributes[i]\n",
    "        elif i == 2:\n",
    "            dog_dict['weight'] = attributes[i]\n",
    "        elif i == 3:\n",
    "            dog_dict['age'] = attributes[i]\n",
    "        elif i == 4:\n",
    "            dog_dict['group'] = attributes[i]\n",
    "    dog_dict['url'] = link\n",
    "    return dog_dict"
   ]
  },
  {
   "cell_type": "code",
   "execution_count": 24,
   "metadata": {},
   "outputs": [],
   "source": [
    "#Main loop to populate the database from the american kennel club\n",
    "page = 'https://www.akc.org/dog-breeds/page/1/'\n",
    "dog_breeds_akc = get_akc_links(page)\n",
    "counter = 1\n",
    "akc_dog_dict = get_akc_breed_info(dog_breeds_akc[0])\n",
    "df_akc = pd.DataFrame.from_records(akc_dog_dict,index=[0])\n",
    "for breed in dog_breeds_akc[1:]:\n",
    "    akc_dog_dict = get_akc_breed_info(breed)\n",
    "    df1 = pd.DataFrame.from_records(akc_dog_dict,index=[counter])\n",
    "    df_akc = df_akc.append(df1)\n",
    "    counter += 1 #Keep track of index"
   ]
  },
  {
   "cell_type": "markdown",
   "metadata": {},
   "source": [
    "Let's scrape from another database https://dogtime.com/dog-breeds/profiles/"
   ]
  },
  {
   "cell_type": "code",
   "execution_count": null,
   "metadata": {},
   "outputs": [],
   "source": [
    "def get_dogtime_links(page):\n",
    "    driver = webdriver.Chrome('/Users/chris/Downloads/chromedriver')\n",
    "    driver.get(page)\n",
    "    soup = BeautifulSoup(driver.page_source,\"lxml\")\n",
    "    driver.close()\n",
    "    #Now we need to parse the dog breeds\n",
    "    dog_breeds = []\n",
    "    for item in soup.find_all('a', attrs={'class':'list-item-title'}):\n",
    "        dog_breeds.append(item['href'])\n",
    "    return dog_breeds"
   ]
  },
  {
   "cell_type": "code",
   "execution_count": null,
   "metadata": {},
   "outputs": [],
   "source": [
    "def get_dogtime_breed_info(link):\n",
    "    #follow the links\n",
    "    driver = webdriver.Chrome('/Users/chris/Downloads/chromedriver')\n",
    "    driver.get(link)\n",
    "    soup = BeautifulSoup(driver.page_source,\"lxml\")\n",
    "    driver.close()\n",
    "    dog_dict = {}\n",
    "    #get introduction\n",
    "    for item in soup.find_all('div', attrs={'class':'breeds-single-intro'}):\n",
    "        dog_dict['about'] = str(item.text.encode('utf-8').strip())\n",
    "    #get ratings\n",
    "    for item in soup.find_all('div', attrs={'class':'js-list-item child-characteristic'}):\n",
    "        #split on the first integer\n",
    "        res = re.split('[0-9]', str(item.text.encode('utf-8').strip()))\n",
    "        score = re.search('[0-9]',str(item.text.encode('utf-8').strip()))\n",
    "        dog_dict[res[0]] = score.group(0)\n",
    "    #get vital info\n",
    "    attributes = []\n",
    "    for item in soup.find_all('div', attrs={'class':'vital-stat-box'}):\n",
    "        attributes.append(str(item.text.encode('utf-8').strip()).split(':')[1])\n",
    "    for i in range(len(attributes)):\n",
    "        if i == 0:\n",
    "            dog_dict['group'] = attributes[i]\n",
    "        elif i == 1:\n",
    "            dog_dict['height'] = attributes[i]\n",
    "        elif i == 2:\n",
    "            dog_dict['weight'] = attributes[i]\n",
    "        elif i ==3:\n",
    "            dog_dict['age'] = attributes[i]\n",
    "    dog_dict['url'] = link\n",
    "    return dog_dict"
   ]
  },
  {
   "cell_type": "code",
   "execution_count": null,
   "metadata": {},
   "outputs": [],
   "source": [
    "#Main loop to populate the database from dogtime\n",
    "dogtime_breeds = get_dogtime_links('https://dogtime.com/dog-breeds/profiles/')\n",
    "for breed in dogtime_breeds:\n",
    "    dogtime_dog_dict = get_dogtime_breed_info(breed)"
   ]
  },
  {
   "cell_type": "code",
   "execution_count": 26,
   "metadata": {},
   "outputs": [],
   "source": [
    "df_akc.head()\n",
    "df_akc.to_csv('akc_breeds.csv')"
   ]
  },
  {
   "cell_type": "code",
   "execution_count": null,
   "metadata": {},
   "outputs": [],
   "source": []
  }
 ],
 "metadata": {
  "kernelspec": {
   "display_name": "Python 3",
   "language": "python",
   "name": "python3"
  },
  "language_info": {
   "codemirror_mode": {
    "name": "ipython",
    "version": 3
   },
   "file_extension": ".py",
   "mimetype": "text/x-python",
   "name": "python",
   "nbconvert_exporter": "python",
   "pygments_lexer": "ipython3",
   "version": "3.6.10"
  }
 },
 "nbformat": 4,
 "nbformat_minor": 2
}
