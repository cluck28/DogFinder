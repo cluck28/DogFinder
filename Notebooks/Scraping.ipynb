{
 "cells": [
  {
   "cell_type": "markdown",
   "metadata": {},
   "source": [
    "This notebook is used to scrape dog breed data from a combination of sites and store it in a postgres database."
   ]
  },
  {
   "cell_type": "code",
   "execution_count": 12,
   "metadata": {},
   "outputs": [],
   "source": [
    "import pandas as pd\n",
    "from selenium import webdriver\n",
    "from sqlalchemy import create_engine\n",
    "from sqlalchemy_utils import database_exists, create_database\n",
    "import psycopg2\n",
    "import re\n",
    "from bs4 import BeautifulSoup"
   ]
  },
  {
   "cell_type": "code",
   "execution_count": 5,
   "metadata": {},
   "outputs": [
    {
     "name": "stdout",
     "output_type": "stream",
     "text": [
      "postgres://chris@localhost/dog_breeds\n",
      "True\n"
     ]
    }
   ],
   "source": [
    "#Create or load database\n",
    "dbname = 'dog_breeds'\n",
    "username = 'chris'\n",
    "engine = create_engine('postgres://%s@localhost/%s'%(username,dbname))\n",
    "print(engine.url)\n",
    "## create a database (if it doesn't exist)\n",
    "if not database_exists(engine.url):\n",
    "    create_database(engine.url)\n",
    "print(database_exists(engine.url))"
   ]
  },
  {
   "cell_type": "markdown",
   "metadata": {},
   "source": [
    "Get all of the dog breed links from the akc website"
   ]
  },
  {
   "cell_type": "code",
   "execution_count": 25,
   "metadata": {},
   "outputs": [],
   "source": [
    "driver = webdriver.Chrome('/Users/chris/Downloads/chromedriver')\n",
    "driver.get('https://www.akc.org/dog-breeds/page/1/')\n",
    "soup = BeautifulSoup(driver.page_source,\"lxml\")\n",
    "#Now we need to parse the dog breeds\n",
    "dog_breeds = []\n",
    "for item in soup.find_all('option', value=True):\n",
    "    dog_breeds.append(str(item['value']))\n",
    "driver.close()\n",
    "dog_breeds = list(set(dog_breeds))\n",
    "#Clean up some of the links\n",
    "remove = ['','https://www.akc.org/dog-breeds/sporting/','https://www.akc.org/dog-breeds/hound/','https://www.akc.org/dog-breeds/working/','https://www.akc.org/dog-breeds/terrier/','https://www.akc.org/dog-breeds/toy/',\n",
    "          'https://www.akc.org/dog-breeds/non-sporting/','https://www.akc.org/dog-breeds/herding/','https://www.akc.org/dog-breeds/miscellaneous-class/',\n",
    "          'https://www.akc.org/dog-breeds/foundation-stock-service/','https://www.akc.org/dog-breeds/smallest-dog-breeds/',\n",
    "         'https://www.akc.org/dog-breeds/medium-dog-breeds/','https://www.akc.org/dog-breeds/largest-dog-breeds/',\n",
    "         'https://www.akc.org/dog-breeds/hypoallergenic-dogs/','https://www.akc.org/dog-breeds/best-family-dogs/','https://www.akc.org/dog-breeds/best-guard-dogs/',\n",
    "         'https://www.akc.org/dog-breeds/best-dogs-for-kids/','https://www.akc.org/dog-breeds/best-dogs-for-apartments-dwellers/',\n",
    "         'https://www.akc.org/dog-breeds/hairless-dog-breeds/','https://www.akc.org/dog-breeds/smartest-dogs/']\n",
    "dog_breeds_filtered = []\n",
    "for breed in dog_breeds:\n",
    "    if breed not in remove:\n",
    "        dog_breeds_filtered.append(breed)"
   ]
  },
  {
   "cell_type": "markdown",
   "metadata": {},
   "source": [
    "Follow the links and get all the breed info (raw)"
   ]
  },
  {
   "cell_type": "code",
   "execution_count": 58,
   "metadata": {},
   "outputs": [],
   "source": [
    "def get_breed_info(link):\n",
    "    #follow the links\n",
    "    dog_dict = {}\n",
    "    driver = webdriver.Chrome('/Users/chris/Downloads/chromedriver')\n",
    "    driver.get(link)\n",
    "    soup = BeautifulSoup(driver.page_source,\"lxml\")\n",
    "    driver.close()\n",
    "    #Get temperament\n",
    "    for item in soup.find_all('span', attrs={'class':'attribute-list__description attribute-list__text attribute-list__text--lg mb4 bpm-mb5 pb0 d-block'}):\n",
    "        dog_dict['temperament'] = str(item.text.encode('utf-8').strip())\n",
    "    #Get attributes\n",
    "    attributes = []\n",
    "    for item in soup.find_all('span', attrs={'class': 'attribute-list__description attribute-list__text '}):\n",
    "        attributes.append(str(item.text.encode('utf-8').strip()))\n",
    "    #Get about\n",
    "    for item in soup.find_all('div', attrs={'class':'breed-info__content-wrap'},limit=1):\n",
    "        dog_dict['about'] = str(item.text.encode('utf-8').strip())\n",
    "    #Get care\n",
    "    for item in soup.find_all('div', attrs={'class':'tabs__tab-panel-content'}):\n",
    "        if \"NUTRITION\" in str(item.text.encode('utf-8').strip()):\n",
    "            dog_dict['nutrition'] = str(item.text.encode('utf-8').strip())\n",
    "        if \"GROOMING\" in str(item.text.encode('utf-8').strip()):\n",
    "            dog_dict['grooming'] = str(item.text.encode('utf-8').strip())\n",
    "        if \"EXERCISE\" in str(item.text.encode('utf-8').strip()):\n",
    "            dog_dict['exercise'] = str(item.text.encode('utf-8').strip())\n",
    "        if \"TRAINING\" in str(item.text.encode('utf-8').strip()):\n",
    "            dog_dict['training'] = str(item.text.encode('utf-8').strip())\n",
    "        if \"HEALTH\" in str(item.text.encode('utf-8').strip()):\n",
    "            dog_dict['health'] = str(item.text.encode('utf-8').strip())\n",
    "    #Put attributes into dictionary\n",
    "    for i in range(len(attributes)):\n",
    "        if i == 0:\n",
    "            dog_dict['rank'] = attributes[i]\n",
    "        elif i == 1:\n",
    "            dog_dict['height'] = attributes[i]\n",
    "        elif i == 2:\n",
    "            dog_dict['weight'] = attributes[i]\n",
    "        elif i == 3:\n",
    "            dog_dict['age'] = attributes[i]\n",
    "        elif i == 4:\n",
    "            dog_dict['group'] = attributes[i]\n",
    "    return dog_dict"
   ]
  },
  {
   "cell_type": "code",
   "execution_count": 57,
   "metadata": {},
   "outputs": [
    {
     "data": {
      "text/plain": [
       "{'about': \"b'Greyhounds are the essence of the dog breeder\\\\xe2\\\\x80\\\\x99s credo \\\\xe2\\\\x80\\\\x9cForm follows function.\\\\xe2\\\\x80\\\\x9d From the narrow, aerodynamic skull to the shock-absorbing pads of the feet, Greyhounds are perfectly constructed for high-speed pursuit. The lean beauty of the Greyhound\\\\xe2\\\\x80\\\\x99s \\\\xe2\\\\x80\\\\x9cinverted S\\\\xe2\\\\x80\\\\x9d shape, created by the deep chest curving gently into a tightly tucked waist, has been an object of fascination for artists, poets, and kings for as long as human beings have called themselves civilized. Greyhounds are the template from which other coursing hounds have been struck.'\",\n",
       " 'age': \"b'10-13 years'\",\n",
       " 'exercise': \"b'EXERCISE\\\\n\\\\n\\\\n\\\\n\\\\n\\\\nThe Greyhound is the cheetah of the dog world. While perfectly happy to lounge around the house all day, he is capable of amazing speed and energy when faced with potential prey\\\\xe2\\\\x80\\\\x94or the chance to chase a tennis ball or a coursing lure. Greyhounds require a regular schedule of exercise time and opportunities to (safely) run full-out. They must only be allowed off leash in a securely fenced area, as they may not be able to resist the urge to run off in pursuit of perceived prey.\\\\n\\\\n\\\\n\\\\nEnergy Level\\\\n\\\\nCouch Potato\\\\nNeeds Lots of Activity\\\\n\\\\n\\\\n\\\\n\\\\nEnergetic'\",\n",
       " 'grooming': \"b'GROOMING\\\\n\\\\n\\\\n\\\\n\\\\n\\\\nThe Greyhound\\\\xe2\\\\x80\\\\x99s short, smooth coat requires little grooming beyond regular baths and weekly rubdowns with a damp cloth or hound glove. His strong,\\\\xc2\\\\xa0fast-growing nails\\\\xc2\\\\xa0should be trimmed regularly if not worn down naturally, as overly long nails can cause the dog discomfort. The ears should be checked at least weekly for any buildup of wax or debris that could result in an infection, and cleaned if needed. The\\\\xc2\\\\xa0teeth\\\\xc2\\\\xa0should be brushed regularly\\\\xe2\\\\x80\\\\x94daily if possible\\\\xe2\\\\x80\\\\x94with a toothpaste formulated for dogs.\\\\n\\\\n\\\\n\\\\nGrooming Frequency\\\\n\\\\nOccasional Bath/Brush\\\\nSpecialty/Professional\\\\n\\\\n\\\\n\\\\n\\\\nOccasional Bath/Brush\\\\n\\\\n\\\\n\\\\n\\\\nShedding\\\\n\\\\nInfrequent\\\\nFrequent\\\\n\\\\n\\\\n\\\\n\\\\nOccasional'\",\n",
       " 'group': \"b'Hound Group'\",\n",
       " 'health': \"b'HEALTH\\\\n\\\\n\\\\n\\\\n\\\\n\\\\nGreyhounds are overall very healthy dogs, although there are a few conditions the breed can be prone to. As are most deep-chested breeds, the Greyhound is susceptible to bloat and gastric torsion, a sudden and life-threatening enlargement of the stomach that is sometimes accompanied by twisting. Owners should be aware of the symptoms of bloat and seek medical attention immediately if they occur. A condition called Greyhound neuropathy seems to be isolated in the breed. Other disorders that can occur include cardiac and eye conditions. Responsible breeders screen their stock for conditions that can affect the breed.\\\\n\\\\xc2\\\\xa0\\\\nRecommended Health Tests from the National Breed Club:\\\\n\\\\nOphthalmologist Evaluation\\\\nGreyhound Polyneuropathy NDRG1 DNA Test\\\\nCardiac Exam\\\\n\\\\nRead the\\\\xc2\\\\xa0Official Breed Club Health Statement.'\",\n",
       " 'height': \"b'28-30 inches (male), 27-28 inches (female)'\",\n",
       " 'nutrition': \"b'NUTRITION\\\\n\\\\n\\\\n\\\\n\\\\n\\\\nFeed the Greyhound a high-quality\\\\xc2\\\\xa0dog food\\\\xc2\\\\xa0appropriate to his age (puppy, adult, or senior). The breed typically requires somewhat higher calories and protein than some dogs. Learn about which\\\\xc2\\\\xa0human foods\\\\xc2\\\\xa0are safe for dogs, and which are not. Check with your vet if you have any concerns about your dog\\\\xe2\\\\x80\\\\x99s weight or diet.'\",\n",
       " 'rank': \"b'Ranks 145 of 196'\",\n",
       " 'temperament': \"b'Gentle, Independent, Noble'\",\n",
       " 'training': \"b'TRAINING\\\\n\\\\n\\\\n\\\\n\\\\n\\\\nTraining a Greyhound can be frustrating for anyone who does not understand the genetic origins of the Greyhound temperament. As a sighthound, or coursing breed, the Greyhound was developed to pursue game by sight rather than by scent. They course game independently of humans, making decisions on their own, unlike other types of hunting breeds that require a bit of direction. A Greyhound should be\\\\xc2\\\\xa0socialized\\\\xc2\\\\xa0from an early age with small animals and children. Keep training lessons short and sweet, as the Greyhound will become bored very easily. With his mild, sensitive personality, he needs a gentle approach in training, never harsh. Greyhounds are more interested in doing things *with* you than *for* you. They are very affectionate with their families, though they tend to be reserved with strangers.\\\\n\\\\n\\\\n\\\\nTrainability\\\\n\\\\nMay be Stubborn\\\\nEager to Please\\\\n\\\\n\\\\n\\\\n\\\\nIndependent\\\\n\\\\n\\\\n\\\\n\\\\nTemperament/Demeanor\\\\n\\\\nAloof/Wary\\\\nOutgoing\\\\n\\\\n\\\\n\\\\n\\\\nFriendly'\",\n",
       " 'weight': \"b'65-70 pounds (male), 60-65 pounds (female)'\"}"
      ]
     },
     "execution_count": 57,
     "metadata": {},
     "output_type": "execute_result"
    }
   ],
   "source": [
    "#Main loop to populate the database\n",
    "get_breed_info(1)"
   ]
  },
  {
   "cell_type": "code",
   "execution_count": null,
   "metadata": {},
   "outputs": [],
   "source": []
  }
 ],
 "metadata": {
  "kernelspec": {
   "display_name": "Python 3",
   "language": "python",
   "name": "python3"
  },
  "language_info": {
   "codemirror_mode": {
    "name": "ipython",
    "version": 3
   },
   "file_extension": ".py",
   "mimetype": "text/x-python",
   "name": "python",
   "nbconvert_exporter": "python",
   "pygments_lexer": "ipython3",
   "version": "3.6.10"
  }
 },
 "nbformat": 4,
 "nbformat_minor": 2
}
